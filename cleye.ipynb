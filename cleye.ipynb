{
 "cells": [
  {
   "cell_type": "code",
   "execution_count": 16,
   "metadata": {},
   "outputs": [],
   "source": [
    "\n",
    "Schema from:\n",
    "* Modules\n",
    "* Functions\n",
    "* Classes"
   ]
  },
  {
   "cell_type": "markdown",
   "metadata": {},
   "source": [
    "1. Get the annotations\n",
    "2. Get the defaults\n",
    "3. Make the commands.\n",
    "4. Create the function."
   ]
  },
  {
   "cell_type": "markdown",
   "metadata": {},
   "source": [
    "    Prompt from command.\n",
    "    Command from schema, module, signature"
   ]
  },
  {
   "cell_type": "code",
   "execution_count": 129,
   "metadata": {},
   "outputs": [
    {
     "data": {
      "text/markdown": [
       "    import inspect\n",
       "\n",
       "    import types\n",
       "\n",
       "    \n",
       "    import dataclasses, typing, click, inspect, datetime, uuid, pathlib, builtins, sys, contextlib, stringcase"
      ],
      "text/plain": [
       "<IPython.core.display.Markdown object>"
      ]
     },
     "metadata": {},
     "output_type": "display_data"
    }
   ],
   "source": [
    "    import inspect\n",
    "\n",
    "    import types\n",
    "\n",
    "    \n",
    "    import dataclasses, typing, click, inspect, datetime, uuid, pathlib, builtins, sys, contextlib, stringcase"
   ]
  },
  {
   "cell_type": "code",
   "execution_count": 130,
   "metadata": {},
   "outputs": [],
   "source": [
    "    \n",
    "    def istype(x: typing.Any, y: type) -> bool:\n",
    "        if isinstance(x, type):\n",
    "            return issubclass(x, y)\n",
    "        return False\n",
    "\n",
    "\n",
    "    def click_type(\n",
    "        object: typing.Union[type, tuple], default=None\n",
    "    ) -> typing.Union[type, click.types.ParamType]:\n",
    "        \"\"\"Map different python types and objects to click's subset of types.\"\"\"\n",
    "        if isinstance(object, typing._GenericAlias):\n",
    "            return click_type(object.__args__[0], default)\n",
    "        elif isinstance(object, type):\n",
    "            if issubclass(object, datetime.datetime):\n",
    "                return click.DateTime()\n",
    "            if issubclass(object, typing.Tuple):\n",
    "                return click.Tuple(object.__args__)\n",
    "            if issubclass(object, uuid.UUID):\n",
    "                return click.UUID(default)\n",
    "            if object is list:\n",
    "                return\n",
    "            if issubclass(object, set):\n",
    "                return click.Choice(object)\n",
    "            if issubclass(object, pathlib.Path):\n",
    "                return click.Path()\n",
    "            if object in {builtins.object, typing.Any}:\n",
    "                return\n",
    "            return object\n",
    "        else:\n",
    "            if isinstance(object, (tuple, range)):\n",
    "                if isinstance(object, range):\n",
    "                    object = object.start, object.stop\n",
    "                if all(isinstance(x, int) for x in object[:2]):\n",
    "                    return click.IntRange(*object)\n",
    "                if all(isinstance(x, float) for x in object[:2]):\n",
    "                    return click.FloatRange(*object)"
   ]
  },
  {
   "cell_type": "code",
   "execution_count": 131,
   "metadata": {},
   "outputs": [],
   "source": [
    "    \n",
    "    @dataclasses.dataclass(order=True)\n",
    "    class Commands:\n",
    "        \"\"\"Build click commands from objects.\"\"\"\n",
    "        object: object\n",
    "        def decorators(self) -> typing.List[click.Command]:\n",
    "            return [\n",
    "                command.build() \n",
    "                if isinstance(command, Command) \n",
    "                else command \n",
    "                for command in self\n",
    "            ]\n",
    "                \n",
    "        def decorate(self, *callable):\n",
    "            command = []\n",
    "            for object in callable:\n",
    "                for cmd in reversed(self.decorators()):\n",
    "                    object = cmd(object)\n",
    "                command.append(click.command()(object))\n",
    "            if len(command) == 1:\n",
    "                return command[0]\n",
    "            group = click.Group()\n",
    "            for object in command:\n",
    "                group.add_command(object)\n",
    "            return group\n",
    "                            \n",
    "        def command(self):\n",
    "            return self.decorate(self.object)\n"
   ]
  },
  {
   "cell_type": "code",
   "execution_count": 132,
   "metadata": {},
   "outputs": [],
   "source": [
    "    \n",
    "    @dataclasses.dataclass\n",
    "    class Command:\n",
    "        name: str\n",
    "        type: type\n",
    "        default: object\n",
    "        option: bool\n",
    "        description: str = None\n",
    "            \n",
    "        def build(self):    \n",
    "            return self._build_option('--'+self.name) if self.option else self._build_argument(self.name)\n",
    "        \n",
    "        def _build_option(self, *args, **opts):\n",
    "            \"\"\"Build a click option.\"\"\"\n",
    "            opts.update(\n",
    "                default=self.default,\n",
    "                type=click_type(self.type, self.default),\n",
    "                multiple=isinstance(self.type, typing.List),\n",
    "                show_default=True,\n",
    "                is_flag=self.type is bool,\n",
    "            )\n",
    "            self.description is None or opts.update(help=self.description)\n",
    "            return click.option(*args, **opts)\n",
    "        def _build_argument(self, *args, **opts):\n",
    "            opts.update(\n",
    "                type=click_type(self.type)\n",
    "            )\n",
    "            return click.argument(*args, **opts)"
   ]
  },
  {
   "cell_type": "code",
   "execution_count": 133,
   "metadata": {},
   "outputs": [
    {
     "data": {
      "text/markdown": [
       "    @dataclasses.dataclass\n",
       "    class Function(Commands):\n",
       "        def __iter__(self):\n",
       "            signature = inspect.signature(self.object)\n",
       "            for k, v in signature.parameters.items():\n",
       "                if k != 'ctx':\n",
       "                    yield Command(\n",
       "                        name=stringcase.spinalcase(k),\n",
       "                        type=v.annotation,\n",
       "                        default=None if v.default != inspect._empty else v.default,\n",
       "                        option=v.default != inspect._empty, \n",
       "                    )\n",
       "            for k, v in signature.parameters.items():\n",
       "                if k == \"ctx\": yield click.pass_context\n",
       "                    \n",
       "        def command(self):\n",
       "            return self.decorate(self.object)"
      ],
      "text/plain": [
       "<IPython.core.display.Markdown object>"
      ]
     },
     "metadata": {},
     "output_type": "display_data"
    }
   ],
   "source": [
    "    @dataclasses.dataclass\n",
    "    class Function(Commands):\n",
    "        def __iter__(self):\n",
    "            signature = inspect.signature(self.object)\n",
    "            for k, v in signature.parameters.items():\n",
    "                if k != 'ctx':\n",
    "                    yield Command(\n",
    "                        name=stringcase.spinalcase(k),\n",
    "                        type=v.annotation,\n",
    "                        default=None if v.default != inspect._empty else v.default,\n",
    "                        option=v.default != inspect._empty, \n",
    "                    )\n",
    "            for k, v in signature.parameters.items():\n",
    "                if k == \"ctx\": yield click.pass_context\n",
    "                    \n",
    "        def command(self):\n",
    "            return self.decorate(self.object)"
   ]
  },
  {
   "cell_type": "code",
   "execution_count": 134,
   "metadata": {},
   "outputs": [],
   "source": [
    "    \n",
    "    class Module(Commands):\n",
    "        def __iter__(self):\n",
    "            for k, v in getattr(self.object, '__annotations__'):\n",
    "                yield Command(\n",
    "                    name=stringcase.spinalcase(k), type=v, default=getattr(self.object, k, None), option=k in vars(self.object), )"
   ]
  },
  {
   "cell_type": "code",
   "execution_count": 135,
   "metadata": {},
   "outputs": [
    {
     "data": {
      "text/markdown": [
       "    _schema_mapping = dict(zip('boolean string integer number object array null'.split(), (bool, str, int, float, object, list, None)))"
      ],
      "text/plain": [
       "<IPython.core.display.Markdown object>"
      ]
     },
     "metadata": {},
     "output_type": "display_data"
    }
   ],
   "source": [
    "    _schema_mapping = dict(zip('boolean string integer number object array null'.split(), (bool, str, int, float, object, list, None)))"
   ]
  },
  {
   "cell_type": "code",
   "execution_count": 136,
   "metadata": {},
   "outputs": [
    {
     "data": {
      "text/markdown": [
       "    def _map_schema(object):\n",
       "        if isinstance(object, str): return _schema_mapping[object]\n",
       "        else:\n",
       "            if 'enum' in object:\n",
       "                return set(object['enum'])"
      ],
      "text/plain": [
       "<IPython.core.display.Markdown object>"
      ]
     },
     "metadata": {},
     "output_type": "display_data"
    }
   ],
   "source": [
    "    def _map_schema(object):\n",
    "        if isinstance(object, str): return _schema_mapping[object]\n",
    "        else:\n",
    "            if 'enum' in object:\n",
    "                return set(object['enum'])"
   ]
  },
  {
   "cell_type": "code",
   "execution_count": 137,
   "metadata": {},
   "outputs": [
    {
     "data": {
      "text/markdown": [
       "    class Schema(Commands):\n",
       "        def __iter__(self):\n",
       "            for k, v in self.object.get('properties', {}):\n",
       "                yield Command(\n",
       "                    name=stringcase.spinalcase(k),\n",
       "                    type=_map_schema(v.get('type', None)),\n",
       "                    description=v.get('description', None),\n",
       "                    default=self.object['properties'].get('default', None),\n",
       "                    option='default' in self.object['properties'], \n",
       "                )"
      ],
      "text/plain": [
       "<IPython.core.display.Markdown object>"
      ]
     },
     "metadata": {},
     "output_type": "display_data"
    }
   ],
   "source": [
    "    class Schema(Commands):\n",
    "        def __iter__(self):\n",
    "            for k, v in self.object.get('properties', {}):\n",
    "                yield Command(\n",
    "                    name=stringcase.spinalcase(k),\n",
    "                    type=_map_schema(v.get('type', None)),\n",
    "                    description=v.get('description', None),\n",
    "                    default=self.object['properties'].get('default', None),\n",
    "                    option='default' in self.object['properties'], \n",
    "                )"
   ]
  },
  {
   "cell_type": "code",
   "execution_count": 104,
   "metadata": {},
   "outputs": [
    {
     "data": {
      "text/markdown": [
       "    @contextlib.contextmanager\n",
       "    def argv(argv):\n",
       "        replace = sys.argv\n",
       "        sys.argv= argv.split()\n",
       "        yield\n",
       "        sys.argv = replace"
      ],
      "text/plain": [
       "<IPython.core.display.Markdown object>"
      ]
     },
     "metadata": {},
     "output_type": "display_data"
    }
   ],
   "source": [
    "    @contextlib.contextmanager\n",
    "    def argv(argv):\n",
    "        replace = sys.argv\n",
    "        sys.argv= argv.split()\n",
    "        yield\n",
    "        sys.argv = replace"
   ]
  },
  {
   "cell_type": "code",
   "execution_count": 111,
   "metadata": {},
   "outputs": [
    {
     "data": {
      "text/markdown": [
       "    @dataclasses.dataclass\n",
       "    class CLI:\n",
       "        object: typing.Any\n",
       "        command: click.Command = dataclasses.dataclass(init=False)\n",
       "        def __call__(self):\n",
       "            try:return self.command.main()\n",
       "            except SystemExit:...\n",
       "        def __post_init__(self):\n",
       "            commands = []\n",
       "            if not isinstance(self.object, typing.Iterable):\n",
       "                self.object = self.object,\n",
       "            for thing in self.object:\n",
       "                if inspect.isfunction(thing):\n",
       "                    commands.append(Function(object=thing).command())\n",
       "                if isinstance(thing, types.ModuleType):\n",
       "                    commands.append(Module(object=thing).command())\n",
       "                if isinstance(thing, dict):\n",
       "                    commands.append(Schema(object=thing).command())\n",
       "            if len(commands) == 1:\n",
       "                self.command = commands[0]\n",
       "            else:\n",
       "                self.command = click.Group()\n",
       "                for thing in commands:\n",
       "                    self.command.add_command(thing)"
      ],
      "text/plain": [
       "<IPython.core.display.Markdown object>"
      ]
     },
     "metadata": {},
     "output_type": "display_data"
    }
   ],
   "source": [
    "    @dataclasses.dataclass\n",
    "    class CLI:\n",
    "        object: typing.Any\n",
    "        command: click.Command = dataclasses.dataclass(init=False)\n",
    "        def __call__(self):\n",
    "            try:return self.command.main()\n",
    "            except SystemExit:...\n",
    "        def __post_init__(self):\n",
    "            commands = []\n",
    "            if not isinstance(self.object, typing.Iterable):\n",
    "                self.object = self.object,\n",
    "            for thing in self.object:\n",
    "                if inspect.isfunction(thing):\n",
    "                    commands.append(Function(object=thing).command())\n",
    "                if isinstance(thing, types.ModuleType):\n",
    "                    commands.append(Module(object=thing).command())\n",
    "                if isinstance(thing, dict):\n",
    "                    commands.append(Schema(object=thing).command())\n",
    "            if len(commands) == 1:\n",
    "                self.command = commands[0]\n",
    "            else:\n",
    "                self.command = click.Group()\n",
    "                for thing in commands:\n",
    "                    self.command.add_command(thing)"
   ]
  },
  {
   "cell_type": "code",
   "execution_count": 128,
   "metadata": {},
   "outputs": [
    {
     "data": {
      "text/markdown": [
       "    __test__ = {\"function\": \"\"\"\n",
       "    >>> def f(i: int=2): return i\n",
       "\n",
       "    >>> def g(i: int=2): return i\n",
       "\n",
       "    >>> with argv('test f --help'): CLI((f, g))()\n",
       "    Usage: test f [OPTIONS]\n",
       "    <BLANKLINE>\n",
       "    Options:\n",
       "      --i INTEGER\n",
       "      --help       Show this message and exit.\n",
       "\n",
       "    >>> with argv('test g --help'): CLI((f, g))()\n",
       "    Usage: test g [OPTIONS]\n",
       "    <BLANKLINE>\n",
       "    Options:\n",
       "      --i INTEGER\n",
       "      --help       Show this message and exit.\n",
       "\n",
       "    >>> with argv('test --help'): CLI((f, g))()\n",
       "    Usage: test [OPTIONS] COMMAND [ARGS]...\n",
       "    <BLANKLINE>\n",
       "    Options:\n",
       "      --help  Show this message and exit.\n",
       "    <BLANKLINE>\n",
       "    Commands:\n",
       "      f\n",
       "      g\n",
       "      \n",
       "    \"\"\"}"
      ],
      "text/plain": [
       "<IPython.core.display.Markdown object>"
      ]
     },
     "metadata": {},
     "output_type": "display_data"
    }
   ],
   "source": [
    "    __test__ = {\"function\": \"\"\"\n",
    "    >>> def f(i: int=2): return i\n",
    "\n",
    "    >>> def g(i: int=2): return i\n",
    "\n",
    "    >>> with argv('test f --help'): CLI((f, g))()\n",
    "    Usage: test f [OPTIONS]\n",
    "    <BLANKLINE>\n",
    "    Options:\n",
    "      --i INTEGER\n",
    "      --help       Show this message and exit.\n",
    "\n",
    "    >>> with argv('test g --help'): CLI((f, g))()\n",
    "    Usage: test g [OPTIONS]\n",
    "    <BLANKLINE>\n",
    "    Options:\n",
    "      --i INTEGER\n",
    "      --help       Show this message and exit.\n",
    "\n",
    "    >>> with argv('test --help'): CLI((f, g))()\n",
    "    Usage: test [OPTIONS] COMMAND [ARGS]...\n",
    "    <BLANKLINE>\n",
    "    Options:\n",
    "      --help  Show this message and exit.\n",
    "    <BLANKLINE>\n",
    "    Commands:\n",
    "      f\n",
    "      g\n",
    "      \n",
    "    \"\"\"}"
   ]
  },
  {
   "cell_type": "code",
   "execution_count": null,
   "metadata": {},
   "outputs": [],
   "source": [
    "    import inspect, click, stringcase, enum, uuid, datetime, pathlib, typing, types, builtins, copy, jsonschema\n",
    "\n",
    "\n",
    "    def autoclick(\n",
    "        *object: typing.Union[types.FunctionType, click.Command], group=None, **settings\n",
    "    ) -> click.Command:\n",
    "        \"\"\"Automatically generate a click command line application using type inference.\"\"\"\n",
    "        app = group or click.Group()\n",
    "        for command in object:\n",
    "            if isinstance(command, click.Command):\n",
    "                app.add_command(command)\n",
    "            elif isinstance(command, types.FunctionType):\n",
    "                decorators = signature_to_decorators(command)\n",
    "                command = command_from_decorators(\n",
    "                    command, *decorators, **settings, help=inspect.getdoc(command)\n",
    "                )\n",
    "                app.add_command(command)\n",
    "            elif isinstance(command, dict):\n",
    "                try:\n",
    "                    jsonschema.validate(command, jsonschema.Draft7Validator.META_SCHEMA)\n",
    "                    decorators = decorators_from_schema(command)\n",
    "                except: decorators = decorators_from_dict(command)\n",
    "                command = command_from_decorators(None, *decorators, **settings)\n",
    "        return command if len(object) == 1 else app\n",
    "\n",
    "\n",
    "    def istype(x: typing.Any, y: type) -> bool:\n",
    "        if isinstance(x, type):\n",
    "            return issubclass(x, y)\n",
    "        return False\n",
    "\n",
    "\n",
    "    def click_type(\n",
    "        object: typing.Union[type, tuple], default=None\n",
    "    ) -> typing.Union[type, click.types.ParamType]:\n",
    "        \"\"\"Translate python types to click's subset of types.\"\"\"\n",
    "        if isinstance(object, typing._GenericAlias):\n",
    "            return click_type(object.__args__[0], default)\n",
    "        elif isinstance(object, type):\n",
    "            if issubclass(object, datetime.datetime):\n",
    "                return click.DateTime()\n",
    "            if issubclass(object, typing.Tuple):\n",
    "                return click.Tuple(object.__args__)\n",
    "            if issubclass(object, uuid.UUID):\n",
    "                return click.UUID(default)\n",
    "            if object is list:\n",
    "                return\n",
    "            if issubclass(object, set):\n",
    "                return click.Choice(object)\n",
    "\n",
    "            if issubclass(object, pathlib.Path):\n",
    "                return click.Path()\n",
    "            if object in {builtins.object, typing.Any}:\n",
    "                return\n",
    "            return object\n",
    "        else:\n",
    "            if isinstance(object, tuple):\n",
    "                if all(isinstance(x, int) for x in object[:2]):\n",
    "                    return click.IntRange(*object)\n",
    "                if all(isinstance(x, float) for x in object[:2]):\n",
    "                    return click.FloatRange(*object)\n",
    "\n",
    "\n",
    "    def command_from_decorators(command, *decorators, **settings):\n",
    "        if command is None:\n",
    "            *decorators, command = decorators\n",
    "        for decorator in reversed(decorators):\n",
    "            command = decorator(command)\n",
    "        return click.command(no_args_is_help=bool(decorators), **settings)(command)\n",
    "\n",
    "\n",
    "    def decorators_from_dicts(annotations, defaults, *decorators):\n",
    "        \"\"\"This is the last place we go.  Dicts are the general way to make commands.\n",
    "        annotations define what becomes a type.\"\"\"\n",
    "        for k, v in annotations.items():\n",
    "            if k in defaults:\n",
    "                t = click_type(v, defaults.get(k))\n",
    "                decorators += (\n",
    "                    click.option(\n",
    "                        \"-\" * (1 if len(k) == 1 else 2) + stringcase.spinalcase(k),\n",
    "                        type=t,\n",
    "                        default=defaults.get(k),\n",
    "                        show_default=True,\n",
    "                        is_flag=v is bool,\n",
    "                    ),\n",
    "                )\n",
    "\n",
    "            elif isinstance(v, typing._GenericAlias) or istype(v, list):\n",
    "                decorators += (\n",
    "                    click.argument(\n",
    "                        stringcase.spinalcase(k),\n",
    "                        type=click_type(getattr(v, \"__args__\", (str,))[0]),\n",
    "                        nargs=-1,\n",
    "                    ),\n",
    "                )\n",
    "            else:\n",
    "                decorators += (\n",
    "                    click.argument(stringcase.spinalcase(k), type=click_type(v)),\n",
    "                )\n",
    "        return decorators\n",
    "\n",
    "\n",
    "    def decorators_from_dict(object):\n",
    "        return decorators_from_dicts(object.get(\"__annotations__\", {}), object)\n",
    "\n",
    "\n",
    "    def decorators_from_module(object):\n",
    "        return decorators_from_dict(vars(object))\n",
    "\n",
    "\n",
    "    def signature_to_decorators(object, *decorators):\n",
    "        signature = inspect.signature(object)\n",
    "        decorators += decorators_from_dicts(\n",
    "            {\n",
    "                k: typing.List[v.annotation]\n",
    "                if v.kind == inspect._ParameterKind.VAR_POSITIONAL\n",
    "                else v.annotation\n",
    "                for k, v in signature.parameters.items()\n",
    "                if k != \"ctx\"\n",
    "            },\n",
    "            {\n",
    "                k: v.default\n",
    "                for k, v in signature.parameters.items()\n",
    "                if v.default != inspect._empty\n",
    "            },\n",
    "        )\n",
    "        for k, v in signature.parameters.items():\n",
    "            if k == \"ctx\":\n",
    "                decorators += (click.pass_context,)\n",
    "            break\n",
    "        return decorators\n"
   ]
  },
  {
   "cell_type": "code",
   "execution_count": null,
   "metadata": {},
   "outputs": [],
   "source": [
    "    if __name__ == '__main__': \n",
    "        if '__file__' in locals():\n",
    "            if 'covtest' in __import__('sys').argv:\n",
    "                print(__import__('doctest').testmod(optionflags=8))\n",
    "        else:\n",
    "            import IPython; complement, copy, compose\n",
    "            !jupyter nbconvert --to python --TemplateExporter.exclude_input_prompt=True cleye.ipynb\n",
    "            with IPython.utils.capture.capture_output():\n",
    "                !black cleye.py\n",
    "            !isort cleye.py\n",
    "            !ipython -m coverage -- run cleye.py covtest\n",
    "            !coverage report\n",
    "            !coverage html\n",
    "            with IPython.utils.capture.capture_output():\n",
    "                !pyreverse cleye -osvg -pcleye\n",
    "            IPython.display.display(IPython.display.SVG('classes_cleye.svg'))\n",
    "            with IPython.utils.capture.capture_output():\n",
    "                !pyreverse cleye -osvg -pcleye -my -s1\n",
    "            IPython.display.display(IPython.display.SVG('classes_cleye.svg'))"
   ]
  },
  {
   "cell_type": "code",
   "execution_count": null,
   "metadata": {},
   "outputs": [],
   "source": []
  }
 ],
 "metadata": {
  "kernelspec": {
   "display_name": "pidgy 3",
   "language": "python",
   "name": "pidgy"
  },
  "language_info": {
   "codemirror_mode": {
    "name": "ipython",
    "version": 3
   },
   "file_extension": ".py",
   "mimetype": "text/x-python",
   "name": "python",
   "nbconvert_exporter": "python",
   "pygments_lexer": "ipython3",
   "version": "3.7.3"
  }
 },
 "nbformat": 4,
 "nbformat_minor": 4
}
